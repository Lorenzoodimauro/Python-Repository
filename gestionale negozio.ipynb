{
  "metadata": {
    "kernelspec": {
      "name": "python",
      "display_name": "Python (Pyodide)",
      "language": "python"
    },
    "language_info": {
      "codemirror_mode": {
        "name": "python",
        "version": 3
      },
      "file_extension": ".py",
      "mimetype": "text/x-python",
      "name": "python",
      "nbconvert_exporter": "python",
      "pygments_lexer": "ipython3",
      "version": "3.8"
    },
    "widgets": {
      "application/vnd.jupyter.widget-state+json": {
        "version_major": 2,
        "version_minor": 0,
        "state": {}
      }
    }
  },
  "nbformat_minor": 5,
  "nbformat": 4,
  "cells": [
    {
      "id": "e088252d-9bdf-4e3d-9e65-5857807304d9",
      "cell_type": "code",
      "source": "listino_prezzi = {} #crezione di un nuvo listino\n\ndef aggiungi_prodotto(nome, prezzo):\n    # aggiungendo il prodotto con il rispettivo prezzo e nome.\n    listino_prezzi[nome] = prezzo\n    print(f\" prodotto {nome} aggiunto con il prezzo di {prezzo:.2f} euro.\")\n\naggiungi_prodotto(\"smartphone\", 599)\naggiungi_prodotto(\"laptop\", 1000)\n\nprint(listino_prezzi)",
      "metadata": {
        "trusted": true
      },
      "outputs": [
        {
          "name": "stdout",
          "output_type": "stream",
          "text": " prodotto smartphone aggiunto con il prezzo di 599.00 euro.\n prodotto laptop aggiunto con il prezzo di 1000.00 euro.\n{'smartphone': 599, 'laptop': 1000}\n"
        }
      ],
      "execution_count": 14
    },
    {
      "id": "715495d2-ba16-4428-9dcf-d151cab4f9d2",
      "cell_type": "code",
      "source": "def aggiorna_prezzo(nome, nuovo_prezzo):\n    # aggiorno il prezzo di un prodotto\n    if nome in listino_prezzi:\n        listino_prezzi[nome] = nuovo_prezzo\n        print(f\"Il prezzo di {nome} aggionato a {nuovo_prezzo:.2f} euro.\")\n\naggiorna_prezzo(\"smartphone\", 499)",
      "metadata": {
        "trusted": true
      },
      "outputs": [
        {
          "name": "stdout",
          "output_type": "stream",
          "text": "Il prezzo di smartphone aggionato a 499.00 euro.\n"
        }
      ],
      "execution_count": 13
    },
    {
      "id": "389fe731-55fd-4318-afe7-187c3bb374e0",
      "cell_type": "code",
      "source": "# creo una funzione che faccia visualizzare il listino.\n\ndef visualizza_listino():\n    print(\"\\n ----- Listino prezzi attuale -----\")\n    for prodotto, prezzo in listino_prezzi.items():\n        print(f\"- {prodotto} - prezzo {prezzo:.2f} euro.\")\n\nvisualizza_listino()",
      "metadata": {
        "trusted": true
      },
      "outputs": [
        {
          "name": "stdout",
          "output_type": "stream",
          "text": "\n ----- Listino prezzi attuale -----\n- smartphone - prezzo 599.00 euro.\n- laptop - prezzo 1000.00 euro.\n"
        }
      ],
      "execution_count": 35
    },
    {
      "id": "4ce8f2f5-ae33-49f2-9e43-a599c1d16ea8",
      "cell_type": "code",
      "source": "# Ora creiamo una funzione per calcolare il totale di un acquisto, \n# data una lista di prodotti e quantità\n\ndef totale_acquisto(carrello):\n    totale = 0\n    for prodotto, quantita in carrello.items():\n        if prodotto in listino_prezzi:\n            totale += listino_prezzi[prodotto] * quantita\n        else:\n            print(f\" Il prodotto {prodotto} non e` presente nel listino\")\n        return totale\n\ncarrello = {\"smartphone\": 4,  \"laptop\": 4}\ntotale = totale_acquisto(carrello)\nprint(f\" il totale carrello e' {totale:.2f} euro.\")",
      "metadata": {
        "trusted": true
      },
      "outputs": [
        {
          "name": "stdout",
          "output_type": "stream",
          "text": " il totale carrello e' 2396.00 euro.\n"
        }
      ],
      "execution_count": 59
    },
    {
      "id": "5aa03f79-0999-45b9-8ee9-89d7947f086a",
      "cell_type": "code",
      "source": "#TEST FINALE\n# Aggiungo altri prodotti\n\naggiungi_prodotto(\"Smartwatch\", 200)\naggiungi_prodotto(\"TV\", 400)\n\nvisualizza_listino()\n\naggiorna_prezzo(\"laptop\", 1200)\n\nvisualizza_listino()\n\n\n\n",
      "metadata": {
        "trusted": true
      },
      "outputs": [
        {
          "name": "stdout",
          "output_type": "stream",
          "text": " prodotto Smartwatch aggiunto con il prezzo di 200.00 euro.\n prodotto TV aggiunto con il prezzo di 400.00 euro.\n\n ----- Listino prezzi attuale -----\n- smartphone - prezzo 599.00 euro.\n- laptop - prezzo 1200.00 euro.\n- Smartwatch - prezzo 200.00 euro.\n- TV - prezzo 400.00 euro.\nIl prezzo di laptop aggionato a 1200.00 euro.\n\n ----- Listino prezzi attuale -----\n- smartphone - prezzo 599.00 euro.\n- laptop - prezzo 1200.00 euro.\n- Smartwatch - prezzo 200.00 euro.\n- TV - prezzo 400.00 euro.\n"
        }
      ],
      "execution_count": 65
    },
    {
      "id": "dda5516c-822a-4675-9325-09424c038a05",
      "cell_type": "code",
      "source": "",
      "metadata": {
        "trusted": true
      },
      "outputs": [],
      "execution_count": null
    },
    {
      "id": "9b37a1f9-09a3-412d-a424-0c019bd6627a",
      "cell_type": "code",
      "source": "",
      "metadata": {
        "trusted": true
      },
      "outputs": [],
      "execution_count": null
    }
  ]
}